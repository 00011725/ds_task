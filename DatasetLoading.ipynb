{
 "cells": [
  {
   "cell_type": "code",
   "execution_count": null,
   "id": "06729c6a-3c4a-44c4-8993-264ec41605aa",
   "metadata": {
    "scrolled": true
   },
   "outputs": [],
   "source": [
    "!pip install datasets\n",
    "from datasets import load_dataset"
   ]
  },
  {
   "cell_type": "code",
   "execution_count": null,
   "id": "1d93f3ec-29ae-4d5d-ac35-d5a3c1f482ff",
   "metadata": {},
   "outputs": [],
   "source": [
    "from datasets import load_dataset\n",
    "dataset = load_dataset(\"mozilla-foundation/common_voice_12_0\", \"uz\", trust_remote_code=True)"
   ]
  },
  {
   "cell_type": "code",
   "execution_count": null,
   "id": "58657233-50e4-42b5-ba9c-bb57a4db645a",
   "metadata": {},
   "outputs": [],
   "source": [
    "import pandas as pd"
   ]
  },
  {
   "cell_type": "code",
   "execution_count": null,
   "id": "8ef483b3-514f-4972-94cb-31d575cc906e",
   "metadata": {},
   "outputs": [],
   "source": [
    "# import os\n",
    "# print(os.getcwd())\n",
    "print(os.listdir())"
   ]
  },
  {
   "cell_type": "code",
   "execution_count": null,
   "id": "f48f596c-04a4-4548-83a6-8fea8cb5280b",
   "metadata": {},
   "outputs": [],
   "source": [
    "train_df = pd.read_csv('C:/Users/User/.cache/huggingface/hub/datasets--mozilla-foundation--common_voice_12_0/snapshots/eb58b6bb4457bd7b185edcd5a4286291b3f64e68/transcript/uz/train.tsv', sep='\\t')\n",
    "dev_df = pd.read_csv('C:/Users/User/.cache/huggingface/hub/datasets--mozilla-foundation--common_voice_12_0/snapshots/eb58b6bb4457bd7b185edcd5a4286291b3f64e68/transcript/uz/dev.tsv', sep='\\t')\n",
    "test_df = pd.read_csv('C:/Users/User/.cache/huggingface/hub/datasets--mozilla-foundation--common_voice_12_0/snapshots/eb58b6bb4457bd7b185edcd5a4286291b3f64e68/transcript/uz/test.tsv', sep='\\t')\n",
    "other_df = pd.read_csv('C:/Users/User/.cache/huggingface/hub/datasets--mozilla-foundation--common_voice_12_0/snapshots/eb58b6bb4457bd7b185edcd5a4286291b3f64e68/transcript/uz/other.tsv', sep='\\t')\n",
    "invalidated_df = pd.read_csv('C:/Users/User/.cache/huggingface/hub/datasets--mozilla-foundation--common_voice_12_0/snapshots/eb58b6bb4457bd7b185edcd5a4286291b3f64e68/transcript/uz/invalidated.tsv', sep='\\t')\n",
    "\n",
    "train_df.to_csv('D:/CommonVoice/train.csv', index=False)   \n",
    "dev_df.to_csv('D:/CommonVoice/dev.csv', index=False) \n",
    "test_df.to_csv('D:/CommonVoice/test.csv', index=False) \n",
    "other_df.to_csv('D:/CommonVoice/other.csv', index=False) \n",
    "invalidated_df.to_csv('D:/CommonVoice/invalidated.csv', index=False)  "
   ]
  },
  {
   "cell_type": "code",
   "execution_count": null,
   "id": "b46722be-bed1-4e04-ac37-9e4821ba6b3b",
   "metadata": {},
   "outputs": [],
   "source": [
    "all_df = pd.concat([train_df, dev_df, test_df, other_df, invalidated_df], ignore_index=True)\n",
    "all_df.to_csv('D:/CommonVoice/CommonVoiceDf.csv', index=False)"
   ]
  },
  {
   "cell_type": "code",
   "execution_count": null,
   "id": "f0164c91-58bf-426c-9145-47cc33969a14",
   "metadata": {},
   "outputs": [],
   "source": []
  }
 ],
 "metadata": {
  "kernelspec": {
   "display_name": "Python 3 (ipykernel)",
   "language": "python",
   "name": "python3"
  },
  "language_info": {
   "codemirror_mode": {
    "name": "ipython",
    "version": 3
   },
   "file_extension": ".py",
   "mimetype": "text/x-python",
   "name": "python",
   "nbconvert_exporter": "python",
   "pygments_lexer": "ipython3",
   "version": "3.12.7"
  }
 },
 "nbformat": 4,
 "nbformat_minor": 5
}
