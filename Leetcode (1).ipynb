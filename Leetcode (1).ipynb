{
 "cells": [
  {
   "cell_type": "markdown",
   "id": "695a7275-9a12-4865-a352-779c5688976c",
   "metadata": {},
   "source": [
    "1.\tTwo Sum (Easy): Problem ID 1\n",
    "Given an array of integers nums and an integer target, return indices of the two numbers such that they add up to target.\n",
    "You may assume that each input would have exactly one solution, and you may not use the same element twice.\n",
    "You can return the answer in any order."
   ]
  },
  {
   "cell_type": "code",
   "execution_count": 43,
   "id": "69cb5c12-6a65-4931-8f0e-7e68757f4c04",
   "metadata": {},
   "outputs": [
    {
     "name": "stdin",
     "output_type": "stream",
     "text": [
      "Please input integer: 9\n",
      "Please input two or more integers: 21 1 12 7 8 2 \n"
     ]
    },
    {
     "name": "stdout",
     "output_type": "stream",
     "text": [
      "[(1, 8), (7, 2), (8, 1), (2, 7)]\n"
     ]
    }
   ],
   "source": [
    "def TwoSum():\n",
    "    target = int(input('Please input integer:'))\n",
    "    array = input('Please input two or more integers:').split()\n",
    "    arrayInt = [int(x) for x in array] #List comprehension\n",
    "    solution = []  \n",
    "    for index, n in enumerate(arrayInt):\n",
    "           diff = target - n\n",
    "           if diff in arrayInt:  \n",
    "              solution.append((n, diff))\n",
    "    \n",
    "    if solution:\n",
    "        return solution\n",
    "    else:\n",
    "        return 'No solution for these numbers'\n",
    "\n",
    "print(TwoSum())"
   ]
  },
  {
   "cell_type": "markdown",
   "id": "fcaacf51-94f9-4311-9434-03571880719c",
   "metadata": {},
   "source": [
    "3. Valid Anagram (Easy): Problem ID 242\n",
    "Given two strings s and t, return true if t is an anagram of s, and false otherwise."
   ]
  },
  {
   "cell_type": "code",
   "execution_count": 39,
   "id": "e4b70489-dfdf-40b1-9229-ef8e37c7867d",
   "metadata": {},
   "outputs": [
    {
     "name": "stdin",
     "output_type": "stream",
     "text": [
      "Please input word: heelo\n",
      "Please input word: holly\n"
     ]
    },
    {
     "name": "stdout",
     "output_type": "stream",
     "text": [
      "['e', 'e', 'h', 'l', 'o'] ['h', 'l', 'l', 'o', 'y']\n",
      "False\n"
     ]
    }
   ],
   "source": [
    "def ValidAnagram():\n",
    "    s = input('Please input word:')\n",
    "    t = input('Please input word:')\n",
    "    charS = list(s)\n",
    "    charT = list(t)\n",
    "    sortedS = sorted(charS)\n",
    "    sortedT = sorted(charT)\n",
    "    if sortedS==sortedT:\n",
    "        return True\n",
    "    else:\n",
    "        # print(sortedS, sortedT)\n",
    "        return False\n",
    "print(ValidAnagram())"
   ]
  },
  {
   "cell_type": "markdown",
   "id": "e519e1ac-24a6-4aa0-a8ee-9b27c43a84aa",
   "metadata": {},
   "source": [
    "4. Median of Two Sorted Arrays (Hard): Problem ID 4\n",
    "Given two sorted arrays nums1 and nums2 of size m and n respectively, return the median of the two sorted arrays.\n",
    "The overall run time complexity should be O(log (m+n))."
   ]
  },
  {
   "cell_type": "code",
   "execution_count": 63,
   "id": "b4aa7c9d-a352-4c4f-805a-e2219c5e5025",
   "metadata": {},
   "outputs": [
    {
     "name": "stdin",
     "output_type": "stream",
     "text": [
      "Please input only integers: 2 4 6\n",
      "Please input only integers: 3 5 7\n"
     ]
    },
    {
     "name": "stdout",
     "output_type": "stream",
     "text": [
      "4.5\n"
     ]
    }
   ],
   "source": [
    "def Median():\n",
    "    num1 = input('Please input only integers:').split()\n",
    "    num2 = input('Please input only integers:').split()\n",
    "    mergArr = num1+num2\n",
    "    listArr = [int(x) for x in mergArr]\n",
    "    sortList = sorted(listArr)\n",
    "    n = len(sortList)\n",
    "    if n % 2 == 1:\n",
    "        IntOddOrder = (n//2)\n",
    "        result = sortList[IntOddOrder]\n",
    "    else:\n",
    "        res1 =  sortList[n//2 - 1]\n",
    "        res2 = sortList[n//2]\n",
    "        result = (res1+res2)/2\n",
    "\n",
    "    return result\n",
    "print(Median())"
   ]
  },
  {
   "cell_type": "markdown",
   "id": "2d6d347a-cbcd-442d-b86c-b5727c24802f",
   "metadata": {},
   "source": [
    "5. Top K Frequent Elements (Medium): Problem ID 347\n",
    "Given an integer array nums and an integer k, return the k most frequent elements. You may return the answer in any order.\n",
    "---- As I understood task was find k number frequent elements in array, but in given output not only k number but more than k number frequencies showed in result, so in my result shown only exactly k number freq"
   ]
  },
  {
   "cell_type": "code",
   "execution_count": 95,
   "id": "13edf6e1-a05f-4709-89a1-45fcd2d6e5bd",
   "metadata": {},
   "outputs": [
    {
     "name": "stdout",
     "output_type": "stream",
     "text": [
      "[6]\n"
     ]
    }
   ],
   "source": [
    "def TopK(arr, k):\n",
    "    sortN = arr.sort()\n",
    "    lis = {}\n",
    "    result = []\n",
    "    for x in arr:\n",
    "        if x in lis:\n",
    "            lis[x] += 1\n",
    "        else:\n",
    "            lis[x] = 1\n",
    "    \n",
    "    for key, value in lis.items():\n",
    "        if value == k:\n",
    "            result.append(key)\n",
    "    return result \n",
    "arr = [2, 6, 6, 7]\n",
    "k = 2\n",
    "print(TopK(arr, k))\n",
    "\n"
   ]
  },
  {
   "cell_type": "markdown",
   "id": "3ab49ea6-8ca2-4448-a5f8-0619d12b941e",
   "metadata": {},
   "source": [
    "2.\tGroup Anagrams (Medium): Problem ID 49\n",
    "Given an array of strings strs, group the anagrams together. You can return the answer in any order."
   ]
  },
  {
   "cell_type": "code",
   "execution_count": 8,
   "id": "6127989b-bc7f-43e2-9802-ac5c116224ff",
   "metadata": {},
   "outputs": [
    {
     "name": "stdout",
     "output_type": "stream",
     "text": [
      "[['eat', 'tea', 'ate'], ['tan', 'nat'], ['bat']]\n"
     ]
    }
   ],
   "source": [
    "def GroupAnagrams(strings):\n",
    "    anagrams = {}  \n",
    "    for s in strings:\n",
    "        key = ''.join(sorted(s))\n",
    "        if key not in anagrams:\n",
    "            anagrams[key] = []\n",
    "        anagrams[key].append(s)\n",
    "    return list(anagrams.values())\n",
    "strings = [\"eat\", \"tea\", \"tan\", \"ate\", \"nat\", \"bat\"]\n",
    "print(GroupAnagrams(strings)) "
   ]
  },
  {
   "cell_type": "code",
   "execution_count": null,
   "id": "f74cd0f4-7751-4717-be32-9b91888a5468",
   "metadata": {},
   "outputs": [],
   "source": [
    "# array = input('Please input two or more integers:').split()\n",
    "# arrayInt = [int(x) for x in array] \n",
    "# print(arrayInt)\n",
    "# print(type(arrayInt))\n",
    "\n",
    "\n",
    "# num1 = input('Please input only integers:').split()\n",
    "# num2 = input('Please input only integers:').split()\n",
    "# mergArr = num1+num2\n",
    "# listArr = [int(x) for x in mergArr]\n",
    "# print(type(mergArr))   \n",
    "# print(type(listArr))"
   ]
  }
 ],
 "metadata": {
  "kernelspec": {
   "display_name": "Python 3 (ipykernel)",
   "language": "python",
   "name": "python3"
  },
  "language_info": {
   "codemirror_mode": {
    "name": "ipython",
    "version": 3
   },
   "file_extension": ".py",
   "mimetype": "text/x-python",
   "name": "python",
   "nbconvert_exporter": "python",
   "pygments_lexer": "ipython3",
   "version": "3.12.7"
  }
 },
 "nbformat": 4,
 "nbformat_minor": 5
}
